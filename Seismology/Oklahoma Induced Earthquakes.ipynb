{
 "cells": [
  {
   "cell_type": "markdown",
   "metadata": {},
   "source": [
    "### Oklahoma Induced Earthquakes"
   ]
  },
  {
   "cell_type": "code",
   "execution_count": 13,
   "metadata": {},
   "outputs": [],
   "source": [
    "import numpy as np\n",
    "import matplotlib.pyplot as plt\n",
    "import pandas as pd\n",
    "from stat_functions import *"
   ]
  },
  {
   "cell_type": "code",
   "execution_count": 2,
   "metadata": {},
   "outputs": [
    {
     "data": {
      "text/html": [
       "<div>\n",
       "<style scoped>\n",
       "    .dataframe tbody tr th:only-of-type {\n",
       "        vertical-align: middle;\n",
       "    }\n",
       "\n",
       "    .dataframe tbody tr th {\n",
       "        vertical-align: top;\n",
       "    }\n",
       "\n",
       "    .dataframe thead th {\n",
       "        text-align: right;\n",
       "    }\n",
       "</style>\n",
       "<table border=\"1\" class=\"dataframe\">\n",
       "  <thead>\n",
       "    <tr style=\"text-align: right;\">\n",
       "      <th></th>\n",
       "      <th>time</th>\n",
       "      <th>latitude</th>\n",
       "      <th>longitude</th>\n",
       "      <th>depth</th>\n",
       "      <th>mag</th>\n",
       "      <th>magType</th>\n",
       "      <th>nst</th>\n",
       "      <th>gap</th>\n",
       "      <th>dmin</th>\n",
       "      <th>rms</th>\n",
       "      <th>...</th>\n",
       "      <th>depthError</th>\n",
       "      <th>magError</th>\n",
       "      <th>magNst</th>\n",
       "      <th>status</th>\n",
       "      <th>locationSource</th>\n",
       "      <th>magSource</th>\n",
       "      <th>loc_name</th>\n",
       "      <th>loc_admin1</th>\n",
       "      <th>loc_admin2</th>\n",
       "      <th>loc_cc</th>\n",
       "    </tr>\n",
       "  </thead>\n",
       "  <tbody>\n",
       "    <tr>\n",
       "      <th>0</th>\n",
       "      <td>1974-12-16 02:30:21.400</td>\n",
       "      <td>35.330</td>\n",
       "      <td>-97.480</td>\n",
       "      <td>10.0</td>\n",
       "      <td>2.6</td>\n",
       "      <td>ml</td>\n",
       "      <td>NaN</td>\n",
       "      <td>NaN</td>\n",
       "      <td>NaN</td>\n",
       "      <td>NaN</td>\n",
       "      <td>...</td>\n",
       "      <td>NaN</td>\n",
       "      <td>NaN</td>\n",
       "      <td>NaN</td>\n",
       "      <td>reviewed</td>\n",
       "      <td>m</td>\n",
       "      <td>tul</td>\n",
       "      <td>Moore</td>\n",
       "      <td>Oklahoma</td>\n",
       "      <td>Cleveland County</td>\n",
       "      <td>US</td>\n",
       "    </tr>\n",
       "    <tr>\n",
       "      <th>1</th>\n",
       "      <td>1975-09-13 01:25:02.800</td>\n",
       "      <td>34.139</td>\n",
       "      <td>-97.369</td>\n",
       "      <td>5.0</td>\n",
       "      <td>3.4</td>\n",
       "      <td>lg</td>\n",
       "      <td>NaN</td>\n",
       "      <td>NaN</td>\n",
       "      <td>NaN</td>\n",
       "      <td>NaN</td>\n",
       "      <td>...</td>\n",
       "      <td>NaN</td>\n",
       "      <td>NaN</td>\n",
       "      <td>NaN</td>\n",
       "      <td>reviewed</td>\n",
       "      <td>us</td>\n",
       "      <td>tul</td>\n",
       "      <td>Wilson</td>\n",
       "      <td>Oklahoma</td>\n",
       "      <td>Carter County</td>\n",
       "      <td>US</td>\n",
       "    </tr>\n",
       "    <tr>\n",
       "      <th>2</th>\n",
       "      <td>1975-10-12 02:58:11.200</td>\n",
       "      <td>34.816</td>\n",
       "      <td>-97.406</td>\n",
       "      <td>20.0</td>\n",
       "      <td>3.2</td>\n",
       "      <td>lg</td>\n",
       "      <td>NaN</td>\n",
       "      <td>NaN</td>\n",
       "      <td>NaN</td>\n",
       "      <td>NaN</td>\n",
       "      <td>...</td>\n",
       "      <td>NaN</td>\n",
       "      <td>NaN</td>\n",
       "      <td>NaN</td>\n",
       "      <td>reviewed</td>\n",
       "      <td>us</td>\n",
       "      <td>tul</td>\n",
       "      <td>Maysville</td>\n",
       "      <td>Oklahoma</td>\n",
       "      <td>Garvin County</td>\n",
       "      <td>US</td>\n",
       "    </tr>\n",
       "    <tr>\n",
       "      <th>3</th>\n",
       "      <td>1975-11-29 14:29:40.900</td>\n",
       "      <td>34.521</td>\n",
       "      <td>-97.347</td>\n",
       "      <td>5.0</td>\n",
       "      <td>3.5</td>\n",
       "      <td>lg</td>\n",
       "      <td>NaN</td>\n",
       "      <td>NaN</td>\n",
       "      <td>NaN</td>\n",
       "      <td>NaN</td>\n",
       "      <td>...</td>\n",
       "      <td>NaN</td>\n",
       "      <td>NaN</td>\n",
       "      <td>NaN</td>\n",
       "      <td>reviewed</td>\n",
       "      <td>us</td>\n",
       "      <td>slm</td>\n",
       "      <td>Wynnewood</td>\n",
       "      <td>Oklahoma</td>\n",
       "      <td>Garvin County</td>\n",
       "      <td>US</td>\n",
       "    </tr>\n",
       "    <tr>\n",
       "      <th>4</th>\n",
       "      <td>1976-04-16 18:59:44.200</td>\n",
       "      <td>36.107</td>\n",
       "      <td>-99.875</td>\n",
       "      <td>5.0</td>\n",
       "      <td>3.4</td>\n",
       "      <td>NaN</td>\n",
       "      <td>NaN</td>\n",
       "      <td>NaN</td>\n",
       "      <td>NaN</td>\n",
       "      <td>NaN</td>\n",
       "      <td>...</td>\n",
       "      <td>NaN</td>\n",
       "      <td>NaN</td>\n",
       "      <td>NaN</td>\n",
       "      <td>reviewed</td>\n",
       "      <td>us</td>\n",
       "      <td>tul</td>\n",
       "      <td>Arnett</td>\n",
       "      <td>Oklahoma</td>\n",
       "      <td>Ellis County</td>\n",
       "      <td>US</td>\n",
       "    </tr>\n",
       "  </tbody>\n",
       "</table>\n",
       "<p>5 rows × 26 columns</p>\n",
       "</div>"
      ],
      "text/plain": [
       "                      time  latitude  longitude  depth  mag magType  nst  gap  \\\n",
       "0  1974-12-16 02:30:21.400    35.330    -97.480   10.0  2.6      ml  NaN  NaN   \n",
       "1  1975-09-13 01:25:02.800    34.139    -97.369    5.0  3.4      lg  NaN  NaN   \n",
       "2  1975-10-12 02:58:11.200    34.816    -97.406   20.0  3.2      lg  NaN  NaN   \n",
       "3  1975-11-29 14:29:40.900    34.521    -97.347    5.0  3.5      lg  NaN  NaN   \n",
       "4  1976-04-16 18:59:44.200    36.107    -99.875    5.0  3.4     NaN  NaN  NaN   \n",
       "\n",
       "   dmin  rms  ...   depthError magError magNst    status locationSource  \\\n",
       "0   NaN  NaN  ...          NaN      NaN    NaN  reviewed              m   \n",
       "1   NaN  NaN  ...          NaN      NaN    NaN  reviewed             us   \n",
       "2   NaN  NaN  ...          NaN      NaN    NaN  reviewed             us   \n",
       "3   NaN  NaN  ...          NaN      NaN    NaN  reviewed             us   \n",
       "4   NaN  NaN  ...          NaN      NaN    NaN  reviewed             us   \n",
       "\n",
       "   magSource   loc_name  loc_admin1        loc_admin2 loc_cc  \n",
       "0        tul      Moore    Oklahoma  Cleveland County     US  \n",
       "1        tul     Wilson    Oklahoma     Carter County     US  \n",
       "2        tul  Maysville    Oklahoma     Garvin County     US  \n",
       "3        slm  Wynnewood    Oklahoma     Garvin County     US  \n",
       "4        tul     Arnett    Oklahoma      Ellis County     US  \n",
       "\n",
       "[5 rows x 26 columns]"
      ]
     },
     "execution_count": 2,
     "metadata": {},
     "output_type": "execute_result"
    }
   ],
   "source": [
    "# earthquakes detected in the Oklahoma region from 1950 to 2016.\n",
    "# The magnitudes of all earthquakes in the region from the ANSS ComCat.\n",
    "data_eq = pd.read_csv('oklahoma_earthquakes_1950-2017.csv')\n",
    "data_eq.head()"
   ]
  },
  {
   "cell_type": "code",
   "execution_count": 3,
   "metadata": {},
   "outputs": [
    {
     "data": {
      "image/png": "[encoded data removed]",
      "text/plain": [
       "<Figure size 432x288 with 1 Axes>"
      ]
     },
     "metadata": {},
     "output_type": "display_data"
    }
   ],
   "source": [
    "data_eq['year'] = pd.DatetimeIndex(data_eq['time']).year\n",
    "data_eq['month'] = pd.DatetimeIndex(data_eq['time']).month\n",
    "data_eq['day'] = pd.DatetimeIndex(data_eq['time']).day\n",
    "\n",
    "plt.plot(data_eq['year'], data_eq['mag'], marker='.', linestyle='none', alpha=0.1)\n",
    "plt.xlabel('time')\n",
    "plt.ylabel('magnitude')\n",
    "plt.show()"
   ]
  },
  {
   "cell_type": "code",
   "execution_count": 4,
   "metadata": {},
   "outputs": [
    {
     "data": {
      "text/plain": [
       "array([2.670e+02, 2.900e+01, 4.700e+01, 1.370e+02, 3.000e+00, 1.128e+03,\n",
       "       9.600e+01, 4.090e+02, 2.490e+02, 2.920e+02, 3.080e+02, 2.950e+02,\n",
       "       2.700e+01, 3.000e+01, 2.570e+02, 3.030e+02, 4.400e+01, 5.400e+01,\n",
       "       4.300e+01, 1.000e+01, 4.100e+01, 2.400e+01, 1.000e+00, 2.500e+01,\n",
       "       6.000e+00, 1.000e+00, 8.000e+00, 2.000e+01, 2.600e+01, 3.600e+01,\n",
       "       2.000e+00, 5.800e+01, 2.400e+01, 0.000e+00, 1.000e+00, 1.100e+01,\n",
       "       6.000e+00, 7.000e+00, 2.000e+00, 2.000e+00, 1.100e+01, 4.000e+00,\n",
       "       7.000e+00, 7.000e+00, 1.000e+01, 1.500e+01, 7.000e+00, 1.800e+01,\n",
       "       6.100e+01, 2.000e+00, 0.000e+00, 1.100e+01, 3.000e+00, 1.000e+00,\n",
       "       5.000e+00, 1.100e+01, 1.100e+01, 1.570e+02, 1.000e+00, 1.000e+00,\n",
       "       0.000e+00, 8.000e+00, 4.400e+01, 4.900e+01, 5.000e+00, 6.000e+00,\n",
       "       2.100e+01, 4.400e+01, 9.000e+00, 7.000e+00, 1.400e+01, 1.900e+01,\n",
       "       3.500e+01, 1.900e+01, 1.000e+01, 5.000e+00, 9.000e+00, 1.000e+00,\n",
       "       1.140e+02, 1.300e+01, 3.000e+00, 1.470e+02, 0.000e+00, 1.970e+02,\n",
       "       2.190e+02, 5.900e+01, 6.900e+01, 3.980e+02, 1.800e+01, 1.000e+02,\n",
       "       3.900e+01, 1.000e+00, 0.000e+00, 5.500e+01, 4.300e+01, 1.000e+00,\n",
       "       2.000e+00, 2.000e+00, 9.000e+00, 1.500e+01, 0.000e+00, 2.700e+01,\n",
       "       1.600e+01, 4.100e+01, 4.080e+02, 6.500e+01, 1.940e+02, 6.500e+01,\n",
       "       1.200e+01, 5.600e+01, 1.040e+02, 7.600e+01, 3.780e+02, 8.200e+01,\n",
       "       1.750e+02, 2.320e+02, 6.900e+01, 1.130e+02, 3.550e+02, 3.430e+02,\n",
       "       4.670e+02, 1.300e+01, 3.400e+01, 7.900e+01, 1.390e+02, 4.080e+02,\n",
       "       3.000e+00, 1.310e+02, 4.600e+01, 2.000e+00, 9.000e+01, 7.200e+01,\n",
       "       1.500e+02, 2.400e+01, 3.000e+00, 2.960e+02, 2.000e+01, 1.230e+02,\n",
       "       1.000e+00, 7.000e+00, 5.000e+01, 2.600e+01, 4.900e+01, 0.000e+00,\n",
       "       1.700e+01, 3.400e+01, 1.000e+00, 1.040e+02, 9.500e+01, 1.040e+02,\n",
       "       1.500e+01, 3.000e+00, 2.200e+01, 1.900e+01, 1.100e+02, 4.000e+00,\n",
       "       0.000e+00, 1.300e+01, 1.190e+02, 7.000e+00, 2.000e+00, 3.200e+01,\n",
       "       5.600e+01, 2.000e+00, 3.000e+00, 1.900e+01, 3.000e+00, 1.300e+01,\n",
       "       9.000e+00, 0.000e+00, 0.000e+00, 6.700e+01, 5.000e+00, 0.000e+00,\n",
       "       1.500e+01, 2.000e+00, 1.000e+01, 5.000e+00, 1.600e+01, 5.000e+00,\n",
       "       1.000e+00, 2.100e+01, 1.300e+01, 0.000e+00, 0.000e+00, 0.000e+00,\n",
       "       0.000e+00, 0.000e+00, 0.000e+00, 0.000e+00, 1.000e+00, 0.000e+00,\n",
       "       0.000e+00, 1.000e+01, 4.500e+01, 9.000e+00, 1.200e+01, 2.000e+00,\n",
       "       1.000e+00, 6.000e+00, 2.000e+00, 4.000e+00, 8.000e+00, 4.000e+00,\n",
       "       1.000e+00, 1.000e+00, 2.000e+00, 2.000e+00, 1.000e+00, 2.000e+00,\n",
       "       1.000e+00, 9.000e+00, 0.000e+00])"
      ]
     },
     "execution_count": 4,
     "metadata": {},
     "output_type": "execute_result"
    }
   ],
   "source": [
    "dt_pre = data_eq[data_eq['year']<= 2009]\n",
    " \n",
    "preyr = data_eq['year'][data_eq['year']<= 2009]\n",
    "premn = data_eq['month'][data_eq['year']<= 2009]\n",
    "predy = data_eq['day'][data_eq['year']<= 2009]\n",
    "\n",
    "gapyr = np.zeros(len(preyr))\n",
    "gapmn = np.zeros(len(premn))\n",
    "gapdy = np.zeros(len(predy))\n",
    "\n",
    "for i in range(len(preyr)-1):\n",
    "    gapyr[i] = preyr.iloc[i+1] - preyr.iloc[i]\n",
    "    gapmn[i] = premn.iloc[i+1] - premn.iloc[i]\n",
    "    gapdy[i] = predy.iloc[i+1] - predy.iloc[i]\n",
    "\n",
    "timegap_pre = []\n",
    "timegap_pre = gapyr*12*30 + gapmn*30 + gapdy\n",
    "timegap_pre"
   ]
  },
  {
   "cell_type": "code",
   "execution_count": 5,
   "metadata": {},
   "outputs": [
    {
     "data": {
      "text/plain": [
       "array([10.,  3.,  1., ...,  0.,  0.,  0.])"
      ]
     },
     "execution_count": 5,
     "metadata": {},
     "output_type": "execute_result"
    }
   ],
   "source": [
    "dt_post = data_eq[data_eq['year']>= 2010]\n",
    " \n",
    "postyr = data_eq['year'][data_eq['year']>= 2010]\n",
    "postmn = data_eq['month'][data_eq['year']>= 2010]\n",
    "postdy = data_eq['day'][data_eq['year']>= 2010]\n",
    "\n",
    "gapyr1 = np.zeros(len(postyr))\n",
    "gapmn1 = np.zeros(len(postmn))\n",
    "gapdy1 = np.zeros(len(postdy))\n",
    "\n",
    "for i in range(len(postyr)-1):\n",
    "    gapyr1[i] = postyr.iloc[i+1] - postyr.iloc[i]\n",
    "    gapmn1[i] = postmn.iloc[i+1] - postmn.iloc[i]\n",
    "    gapdy1[i] = postdy.iloc[i+1] - postdy.iloc[i]\n",
    "\n",
    "timegap_post = []\n",
    "timegap_post = gapyr1*12*30 + gapmn1*30 + gapdy1\n",
    "timegap_post"
   ]
  },
  {
   "cell_type": "code",
   "execution_count": 6,
   "metadata": {},
   "outputs": [
    {
     "name": "stdout",
     "output_type": "stream",
     "text": [
      "Mean time gap = 0.30998288648031946\n"
     ]
    }
   ],
   "source": [
    "# Compute mean interearthquake time\n",
    "mean_dt_pre = np.mean(timegap_pre)\n",
    "mean_dt_post = np.mean(timegap_post)\n",
    "\n",
    "print('Mean time gap =',mean_dt_post)"
   ]
  },
  {
   "cell_type": "code",
   "execution_count": 7,
   "metadata": {},
   "outputs": [
    {
     "name": "stdout",
     "output_type": "stream",
     "text": [
      "1980 through 2009\n",
      "mean time gap: 59.22 days\n",
      "95% conf int: [44.33, 76.65] days\n",
      "\n",
      "2010 through mid-2017\n",
      "mean time gap: 0.31 days\n",
      "95% conf int: [0.29, 0.33] days\n"
     ]
    }
   ],
   "source": [
    "# Compute mean interearthquake time\n",
    "mean_dt_pre = np.mean(timegap_pre)\n",
    "mean_dt_post = np.mean(timegap_post)\n",
    "\n",
    "# Draw 10,000 bootstrap replicates of the mean\n",
    "bs_reps_pre = draw_bs_reps(timegap_pre, np.mean, size=10000)\n",
    "bs_reps_post = draw_bs_reps(timegap_post, np.mean, size=10000)\n",
    "\n",
    "# Compute the confidence interval\n",
    "conf_int_pre = np.percentile(bs_reps_pre, [2.5, 97.5])\n",
    "conf_int_post = np.percentile(bs_reps_post, [2.5, 97.5])\n",
    "\n",
    "print(\"\"\"1980 through 2009\n",
    "mean time gap: {0:.2f} days\n",
    "95% conf int: [{1:.2f}, {2:.2f}] days\"\"\".format(mean_dt_pre, *conf_int_pre))\n",
    "\n",
    "print(\"\"\"\n",
    "2010 through mid-2017\n",
    "mean time gap: {0:.2f} days\n",
    "95% conf int: [{1:.2f}, {2:.2f}] days\"\"\".format(mean_dt_post, *conf_int_post))"
   ]
  },
  {
   "cell_type": "markdown",
   "metadata": {},
   "source": [
    " There is almost a 200-fold increase in earthquake frequency after 2010."
   ]
  },
  {
   "cell_type": "markdown",
   "metadata": {},
   "source": [
    "**Hypothesis test**: did earthquake frequency change?\n",
    "We will not test the hypothesis that the interearthquake times have the same distribution before and after 2010, since wastewater injection may affect the distribution. Instead, we will assume that they have the same mean. So, compute the p-value associated with the hypothesis that the pre- and post-2010 interearthquake times have the same mean, using the mean of pre-2010 time gaps minus the mean of post-2010 time gaps as your test statistic."
   ]
  },
  {
   "cell_type": "code",
   "execution_count": 8,
   "metadata": {},
   "outputs": [
    {
     "name": "stdout",
     "output_type": "stream",
     "text": [
      "p = 0.0\n"
     ]
    }
   ],
   "source": [
    "# Compute the observed test statistic\n",
    "mean_dt_diff = mean_dt_pre - mean_dt_post\n",
    "\n",
    "# Shift the post-2010 data to have the same mean as the pre-2010 data\n",
    "dt_post_shift = timegap_post - mean_dt_post + mean_dt_pre\n",
    "\n",
    "# Compute 10,000 bootstrap replicates from arrays\n",
    "bs_reps_pre = draw_bs_reps(timegap_pre, np.mean, size=10000)\n",
    "bs_reps_post = draw_bs_reps(dt_post_shift, np.mean, size=10000)\n",
    "\n",
    "# Get replicates of difference of means\n",
    "bs_reps = bs_reps_pre - bs_reps_post\n",
    "\n",
    "p_val = np.sum(bs_reps >= mean_dt_diff) / 10000\n",
    "print('p =', p_val)"
   ]
  },
  {
   "cell_type": "markdown",
   "metadata": {},
   "source": [
    "In 10,000 samples, not one had a test statistic greater than was was observed. The p-value is, predictably based on what we have done so far, is tiiiiiny!"
   ]
  },
  {
   "cell_type": "markdown",
   "metadata": {},
   "source": [
    "So the frequency of EQ definately increased, but what about the magnitude of EQ."
   ]
  },
  {
   "cell_type": "markdown",
   "metadata": {},
   "source": [
    "#### Verify Gutenberg Richter law"
   ]
  },
  {
   "cell_type": "code",
   "execution_count": 9,
   "metadata": {},
   "outputs": [
    {
     "data": {
      "image/png": "[encoded data removed]",
      "text/plain": [
       "<Figure size 432x288 with 1 Axes>"
      ]
     },
     "metadata": {},
     "output_type": "display_data"
    }
   ],
   "source": [
    "mags_pre = data_eq['mag'][data_eq['year'] < 2010]\n",
    "mags_post = data_eq['mag'][data_eq['year'] >= 2010]\n",
    "\n",
    "xpre, ypre = ecdf(mags_pre)\n",
    "xpst, ypst = ecdf(mags_post)\n",
    "\n",
    "_ = plt.plot(xpre, ypre, marker='.', linestyle='none')\n",
    "_ = plt.plot(xpst, ypst, marker='.', linestyle='none')\n",
    "\n",
    "_ = plt.xlabel('magnitude')\n",
    "_ = plt.ylabel('ECDF')\n",
    "plt.legend(('1980 though 2009', '2010 through mid-2017'), loc='upper left')\n",
    "plt.show()"
   ]
  },
  {
   "cell_type": "markdown",
   "metadata": {},
   "source": [
    "Both curves seem to follow the Gutenberg-Richter Law, but with different completeness thresholds, probably due to improvements in sensing capabilities in more recent years."
   ]
  },
  {
   "cell_type": "code",
   "execution_count": 10,
   "metadata": {},
   "outputs": [
    {
     "name": "stdout",
     "output_type": "stream",
     "text": [
      "\n",
      "1980 through 2009\n",
      "b-value: 0.75\n",
      "95% conf int: [0.56, 0.95]\n",
      "\n",
      "2010 through mid-2017\n",
      "b-value: 0.62\n",
      "95% conf int: [0.60, 0.65]\n",
      "\n"
     ]
    }
   ],
   "source": [
    "mt =3\n",
    "\n",
    "b_pre, conf_int_pre = b_value(mags_pre, mt, perc=[2.5, 97.5], n_reps=10000)\n",
    "\n",
    "b_post, conf_int_post = b_value(mags_post, mt, perc=[2.5, 97.5], n_reps=10000)\n",
    "\n",
    "print(\"\"\"\n",
    "1980 through 2009\n",
    "b-value: {0:.2f}\n",
    "95% conf int: [{1:.2f}, {2:.2f}]\n",
    "\n",
    "2010 through mid-2017\n",
    "b-value: {3:.2f}\n",
    "95% conf int: [{4:.2f}, {5:.2f}]\n",
    "\"\"\".format(b_pre, *conf_int_pre, b_post, *conf_int_post))"
   ]
  },
  {
   "cell_type": "markdown",
   "metadata": {},
   "source": [
    "The confidence interval for the b-value for recent earthquakes is tighter than for earlier ones because there are many more recent ones. Still, the confidence intervals overlap, and we can perform a **hypothesis test to see if we might get these results if the b-values are actually the same**"
   ]
  },
  {
   "cell_type": "markdown",
   "metadata": {},
   "source": [
    "We should only include earthquakes that have magnitudes above the completeness threshold. A value of 3 is reasonable, because below the completeness threshold, we are not comparing earthquakes before and after 2010, but observed earthquakes before and after 2010. We do not have a complete data set below the completeness threshold."
   ]
  },
  {
   "cell_type": "markdown",
   "metadata": {},
   "source": [
    "We should perform a permutation test because asserting a null hypothesis that the b-values are the same implicitly assumes that the magnitudes are identically distributed, specifically Exponentially, by the Gutenberg-Richter Law, because we really are assuming the Gutenberg-Richter law holds, in part because we are only considering earthquakes above the completeness threshold. We are using a model (the G-R law) to deal with missing data. So, since both sets of quakes follow the same statistical model, and that model has a single parameter, a permutation test is appropriate."
   ]
  },
  {
   "cell_type": "markdown",
   "metadata": {},
   "source": [
    "A reasonable test statistic is the difference between the mean post-2010 magnitude and the mean pre-2010 magnitude, even though you may be thinking that the mean values are not the b-values, and that you should be using the difference in b-value as your test statistic. However, the difference in mean magnitude is directly proportional to the difference in b-value, so the result of the hypothesis test will be identical if we use b-values of mean magnitudes."
   ]
  },
  {
   "cell_type": "markdown",
   "metadata": {},
   "source": [
    "We do not need to worry about the fact that there were far fewer earthquakes before 2010 than there were after. That is to say, there are fewer earthquakes before 2010, but sufficiently many to do a permutation test, because even though they have different numbers of earthquakes, you are only interested in summary statistics about their magnitude. There were 53 earthquakes between 1980 and 2009 with magnitude 3 or greater, so we have enough to compute a reliable mean."
   ]
  },
  {
   "cell_type": "markdown",
   "metadata": {},
   "source": [
    "You do not need to worry about the fact that the two time intervals are of different length, because, provided the time interval is long enough, the b-value is independent of the time interval, just like the mean of Exponentially distributed values is independent of how many there are, provided there are not too few."
   ]
  },
  {
   "cell_type": "code",
   "execution_count": 14,
   "metadata": {},
   "outputs": [
    {
     "name": "stdout",
     "output_type": "stream",
     "text": [
      "p = 0.0905\n"
     ]
    }
   ],
   "source": [
    "## Hypothesis test: are the b-values different?\n",
    "\n",
    "# Only magnitudes above completeness threshold\n",
    "mags_pre = mags_pre[mags_pre >= mt]\n",
    "mags_post = mags_post[mags_post >= mt]\n",
    "\n",
    "# Observed difference in mean magnitudes: diff_obs\n",
    "diff_obs = np.mean(mags_post) - np.mean(mags_pre)\n",
    "\n",
    "# Generate permutation replicates: perm_reps\n",
    "perm_reps = draw_perm_reps(mags_post, mags_pre, diff_of_means, size=10000)\n",
    "\n",
    "p_val = np.sum(perm_reps < diff_obs) / 10000\n",
    "print('p =', p_val)"
   ]
  },
  {
   "cell_type": "markdown",
   "metadata": {},
   "source": [
    "A p-value around 0.1 suggests that the observed magnitudes are commensurate with there being no change in b-value after wastewater injection began. Oklahoma has a b-value smaller than the Parkfield region, so a randomly selected earthquake above magnitude 3 in Oklahoma more likely than not has a smaller magnitude than one above magnitude 3 randomly selected from the Parkfield region."
   ]
  },
  {
   "cell_type": "markdown",
   "metadata": {},
   "source": [
    "Oklahoma has a smaller b-value than the Parkfield region, so the Parkfield region has more earthquakes>> False.                                                                                                                                \n",
    "\n",
    "One cannot conclude information about frequency of earthquakes from the b-value alone. It is also true that from 2010-mid 2017, Oklahoma had twice as many earthquakes of magnitude 3 and higher than the entire state of California!"
   ]
  },
  {
   "cell_type": "markdown",
   "metadata": {},
   "source": [
    "**Conclusion:** The frequency of EQ in Oklahoma increased over 100 times, but the magnitude of EQ didn't change much."
   ]
  },
  {
   "cell_type": "code",
   "execution_count": null,
   "metadata": {},
   "outputs": [],
   "source": []
  }
 ],
 "metadata": {
  "kernelspec": {
   "display_name": "Python 3",
   "language": "python",
   "name": "python3"
  },
  "language_info": {
   "codemirror_mode": {
    "name": "ipython",
    "version": 3
   },
   "file_extension": ".py",
   "mimetype": "text/x-python",
   "name": "python",
   "nbconvert_exporter": "python",
   "pygments_lexer": "ipython3",
   "version": "3.6.5"
  }
 },
 "nbformat": 4,
 "nbformat_minor": 2
}
