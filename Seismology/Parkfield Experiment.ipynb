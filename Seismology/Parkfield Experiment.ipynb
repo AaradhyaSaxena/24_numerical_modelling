{
 "cells": [
  {
   "cell_type": "code",
   "execution_count": 1,
   "metadata": {},
   "outputs": [],
   "source": [
    "import numpy as np\n",
    "import matplotlib.pyplot as plt\n",
    "import pandas as pd"
   ]
  },
  {
   "cell_type": "code",
   "execution_count": 2,
   "metadata": {},
   "outputs": [
    {
     "data": {
      "text/html": [
       "<div>\n",
       "<style scoped>\n",
       "    .dataframe tbody tr th:only-of-type {\n",
       "        vertical-align: middle;\n",
       "    }\n",
       "\n",
       "    .dataframe tbody tr th {\n",
       "        vertical-align: top;\n",
       "    }\n",
       "\n",
       "    .dataframe thead th {\n",
       "        text-align: right;\n",
       "    }\n",
       "</style>\n",
       "<table border=\"1\" class=\"dataframe\">\n",
       "  <thead>\n",
       "    <tr style=\"text-align: right;\">\n",
       "      <th></th>\n",
       "      <th>time</th>\n",
       "      <th>latitude</th>\n",
       "      <th>longitude</th>\n",
       "      <th>depth</th>\n",
       "      <th>mag</th>\n",
       "      <th>magType</th>\n",
       "      <th>nst</th>\n",
       "      <th>gap</th>\n",
       "      <th>dmin</th>\n",
       "      <th>rms</th>\n",
       "      <th>...</th>\n",
       "      <th>depthError</th>\n",
       "      <th>magError</th>\n",
       "      <th>magNst</th>\n",
       "      <th>status</th>\n",
       "      <th>locationSource</th>\n",
       "      <th>magSource</th>\n",
       "      <th>loc_name</th>\n",
       "      <th>loc_admin1</th>\n",
       "      <th>loc_admin2</th>\n",
       "      <th>loc_cc</th>\n",
       "    </tr>\n",
       "  </thead>\n",
       "  <tbody>\n",
       "    <tr>\n",
       "      <th>0</th>\n",
       "      <td>1951-10-03 13:44:33.170</td>\n",
       "      <td>35.869333</td>\n",
       "      <td>-120.451000</td>\n",
       "      <td>6.0</td>\n",
       "      <td>3.67</td>\n",
       "      <td>ml</td>\n",
       "      <td>6.0</td>\n",
       "      <td>259.0</td>\n",
       "      <td>1.5480</td>\n",
       "      <td>0.43</td>\n",
       "      <td>...</td>\n",
       "      <td>31.61</td>\n",
       "      <td>0.154</td>\n",
       "      <td>10.0</td>\n",
       "      <td>reviewed</td>\n",
       "      <td>ci</td>\n",
       "      <td>ci</td>\n",
       "      <td>Shandon</td>\n",
       "      <td>California</td>\n",
       "      <td>San Luis Obispo County</td>\n",
       "      <td>US</td>\n",
       "    </tr>\n",
       "    <tr>\n",
       "      <th>1</th>\n",
       "      <td>1953-05-28 07:58:34.510</td>\n",
       "      <td>36.004167</td>\n",
       "      <td>-120.501167</td>\n",
       "      <td>6.0</td>\n",
       "      <td>3.61</td>\n",
       "      <td>ml</td>\n",
       "      <td>7.0</td>\n",
       "      <td>296.0</td>\n",
       "      <td>0.9139</td>\n",
       "      <td>0.39</td>\n",
       "      <td>...</td>\n",
       "      <td>31.61</td>\n",
       "      <td>NaN</td>\n",
       "      <td>1.0</td>\n",
       "      <td>reviewed</td>\n",
       "      <td>ci</td>\n",
       "      <td>ci</td>\n",
       "      <td>Coalinga</td>\n",
       "      <td>California</td>\n",
       "      <td>Fresno County</td>\n",
       "      <td>US</td>\n",
       "    </tr>\n",
       "    <tr>\n",
       "      <th>2</th>\n",
       "      <td>1961-12-14 11:51:15.410</td>\n",
       "      <td>35.970000</td>\n",
       "      <td>-120.470167</td>\n",
       "      <td>6.0</td>\n",
       "      <td>3.95</td>\n",
       "      <td>ml</td>\n",
       "      <td>12.0</td>\n",
       "      <td>297.0</td>\n",
       "      <td>0.8718</td>\n",
       "      <td>0.51</td>\n",
       "      <td>...</td>\n",
       "      <td>31.61</td>\n",
       "      <td>0.070</td>\n",
       "      <td>11.0</td>\n",
       "      <td>reviewed</td>\n",
       "      <td>ci</td>\n",
       "      <td>ci</td>\n",
       "      <td>Coalinga</td>\n",
       "      <td>California</td>\n",
       "      <td>Fresno County</td>\n",
       "      <td>US</td>\n",
       "    </tr>\n",
       "    <tr>\n",
       "      <th>3</th>\n",
       "      <td>1965-02-21 18:39:24.500</td>\n",
       "      <td>35.881000</td>\n",
       "      <td>-120.383500</td>\n",
       "      <td>6.0</td>\n",
       "      <td>3.54</td>\n",
       "      <td>ml</td>\n",
       "      <td>10.0</td>\n",
       "      <td>257.0</td>\n",
       "      <td>1.5380</td>\n",
       "      <td>0.56</td>\n",
       "      <td>...</td>\n",
       "      <td>31.61</td>\n",
       "      <td>0.048</td>\n",
       "      <td>11.0</td>\n",
       "      <td>reviewed</td>\n",
       "      <td>ci</td>\n",
       "      <td>ci</td>\n",
       "      <td>Shandon</td>\n",
       "      <td>California</td>\n",
       "      <td>San Luis Obispo County</td>\n",
       "      <td>US</td>\n",
       "    </tr>\n",
       "    <tr>\n",
       "      <th>4</th>\n",
       "      <td>1966-06-28 04:18:36.180</td>\n",
       "      <td>35.856500</td>\n",
       "      <td>-120.446167</td>\n",
       "      <td>6.0</td>\n",
       "      <td>3.15</td>\n",
       "      <td>ml</td>\n",
       "      <td>7.0</td>\n",
       "      <td>259.0</td>\n",
       "      <td>1.3120</td>\n",
       "      <td>0.32</td>\n",
       "      <td>...</td>\n",
       "      <td>31.61</td>\n",
       "      <td>0.105</td>\n",
       "      <td>7.0</td>\n",
       "      <td>reviewed</td>\n",
       "      <td>ci</td>\n",
       "      <td>ci</td>\n",
       "      <td>Shandon</td>\n",
       "      <td>California</td>\n",
       "      <td>San Luis Obispo County</td>\n",
       "      <td>US</td>\n",
       "    </tr>\n",
       "  </tbody>\n",
       "</table>\n",
       "<p>5 rows × 26 columns</p>\n",
       "</div>"
      ],
      "text/plain": [
       "                      time   latitude   longitude  depth   mag magType   nst  \\\n",
       "0  1951-10-03 13:44:33.170  35.869333 -120.451000    6.0  3.67      ml   6.0   \n",
       "1  1953-05-28 07:58:34.510  36.004167 -120.501167    6.0  3.61      ml   7.0   \n",
       "2  1961-12-14 11:51:15.410  35.970000 -120.470167    6.0  3.95      ml  12.0   \n",
       "3  1965-02-21 18:39:24.500  35.881000 -120.383500    6.0  3.54      ml  10.0   \n",
       "4  1966-06-28 04:18:36.180  35.856500 -120.446167    6.0  3.15      ml   7.0   \n",
       "\n",
       "     gap    dmin   rms  ...   depthError magError magNst    status  \\\n",
       "0  259.0  1.5480  0.43  ...        31.61    0.154   10.0  reviewed   \n",
       "1  296.0  0.9139  0.39  ...        31.61      NaN    1.0  reviewed   \n",
       "2  297.0  0.8718  0.51  ...        31.61    0.070   11.0  reviewed   \n",
       "3  257.0  1.5380  0.56  ...        31.61    0.048   11.0  reviewed   \n",
       "4  259.0  1.3120  0.32  ...        31.61    0.105    7.0  reviewed   \n",
       "\n",
       "  locationSource  magSource  loc_name  loc_admin1              loc_admin2  \\\n",
       "0             ci         ci   Shandon  California  San Luis Obispo County   \n",
       "1             ci         ci  Coalinga  California           Fresno County   \n",
       "2             ci         ci  Coalinga  California           Fresno County   \n",
       "3             ci         ci   Shandon  California  San Luis Obispo County   \n",
       "4             ci         ci   Shandon  California  San Luis Obispo County   \n",
       "\n",
       "  loc_cc  \n",
       "0     US  \n",
       "1     US  \n",
       "2     US  \n",
       "3     US  \n",
       "4     US  \n",
       "\n",
       "[5 rows x 26 columns]"
      ]
     },
     "execution_count": 2,
     "metadata": {},
     "output_type": "execute_result"
    }
   ],
   "source": [
    "# earthquakes detected in the Parkfield region from 1950 to 2016.\n",
    "# The magnitudes of all earthquakes in the region from the ANSS ComCat.\n",
    "data_eq = pd.read_csv('parkfield_earthquakes_1950-2017.csv')\n",
    "data_eq.head()"
   ]
  },
  {
   "cell_type": "code",
   "execution_count": 3,
   "metadata": {},
   "outputs": [],
   "source": [
    "mags = data_eq['mag']"
   ]
  },
  {
   "cell_type": "code",
   "execution_count": 4,
   "metadata": {},
   "outputs": [],
   "source": [
    "def ecdf(data):\n",
    "    \"\"\"Compute ECDF for a one-dimensional array of measurements.\"\"\"\n",
    "\n",
    "    # Number of data points: n\n",
    "    n = len(data)\n",
    "\n",
    "    # x-data for the ECDF: x\n",
    "    x = np.sort(data)\n",
    "\n",
    "    # y-data for the ECDF: y\n",
    "    y = np.arange(1, n+1) / n\n",
    "\n",
    "    return x, y"
   ]
  },
  {
   "cell_type": "code",
   "execution_count": 5,
   "metadata": {},
   "outputs": [
    {
     "name": "stdout",
     "output_type": "stream",
     "text": [
      "[0.   0.   0.   ... 5.04 5.47 5.97] [1.00090081e-04 2.00180162e-04 3.00270243e-04 ... 9.99799820e-01\n",
      " 9.99899910e-01 1.00000000e+00]\n"
     ]
    }
   ],
   "source": [
    "x,y = ecdf(mags)\n",
    "print(x,y)"
   ]
  },
  {
   "cell_type": "code",
   "execution_count": 6,
   "metadata": {},
   "outputs": [
    {
     "data": {
      "image/png": "[encoded data removed]",
      "text/plain": [
       "<Figure size 432x288 with 1 Axes>"
      ]
     },
     "metadata": {},
     "output_type": "display_data"
    }
   ],
   "source": [
    "plt.plot(x,y,marker='.',linestyle='none')\n",
    "\n",
    "plt.xlabel('magnitude')\n",
    "plt.ylabel('ECDF')\n",
    "plt.show()"
   ]
  },
  {
   "cell_type": "markdown",
   "metadata": {},
   "source": [
    "The Gutenberg Richter Law states that the magnitudes of earthquakes in a given region over a given period of time are exponentially distributed.\n",
    "This plot verifies gutenberg richter law and also, note the distinctive roll-off at magnitudes below 1.0."
   ]
  },
  {
   "cell_type": "markdown",
   "metadata": {},
   "source": [
    "#### Computing b value"
   ]
  },
  {
   "cell_type": "code",
   "execution_count": 7,
   "metadata": {},
   "outputs": [],
   "source": [
    "def bootstrap_replicate_1d(data, func):\n",
    "    \"\"\"Generate bootstrap replicate of 1d data\"\"\"\n",
    "    bs_sample = np.random.choice( data, len(data) )\n",
    " \n",
    "    return func(bs_sample)"
   ]
  },
  {
   "cell_type": "code",
   "execution_count": 8,
   "metadata": {},
   "outputs": [],
   "source": [
    "def draw_bs_reps(data, func, size=1):\n",
    "    \"\"\"Draw bootstrap replicates.\"\"\"\n",
    "\n",
    "    bs_replicates = np.empty(size)\n",
    "\n",
    "    # Generate replicates\n",
    "    for i in range(size):\n",
    "        bs_replicates[i] = bootstrap_replicate_1d(data, func)\n",
    "\n",
    "    return bs_replicates"
   ]
  },
  {
   "cell_type": "code",
   "execution_count": 9,
   "metadata": {},
   "outputs": [],
   "source": [
    "def b_value(mags, mt, perc=[2.5, 97.5], n_reps=None):\n",
    "    \"\"\"Compute the b-value and optionally its confidence interval.\"\"\"\n",
    "    m = mags[mags >= mt]\n",
    "\n",
    "    b = (np.mean(m) - mt) * np.log(10)\n",
    "\n",
    "    # Draw bootstrap replicates\n",
    "    if n_reps is None:\n",
    "        return b\n",
    "    else:\n",
    "        m_bs_reps = draw_bs_reps(m, np.mean, size=n_reps)\n",
    "        \n",
    "        b_bs_reps = (m_bs_reps - mt) * np.log(10)\n",
    "\n",
    "        conf_int = np.percentile(b_bs_reps, perc)\n",
    "    \n",
    "        return b, conf_int\n"
   ]
  },
  {
   "cell_type": "markdown",
   "metadata": {},
   "source": [
    "The ECDF is effective at exposing roll-off, as you could see below magnitude 1. Because there are plenty of earthquakes above magnitude 3, we can use mt = 3 as your completeness threshold. With this completeness threshold,we will compute the b-value for the Parkfield region from 1950 to 2016, along with the 95% confidence interval. Print the results to the screen. The variable mags with all the magnitudes is in your namespace.\n",
    "Overlaying the theoretical Exponential CDF to verify that the Parkfield region follows the Gutenberg-Richter Law."
   ]
  },
  {
   "cell_type": "code",
   "execution_count": 10,
   "metadata": {},
   "outputs": [
    {
     "data": {
      "image/png": "[encoded data removed]",
      "text/plain": [
       "<Figure size 432x288 with 1 Axes>"
      ]
     },
     "metadata": {},
     "output_type": "display_data"
    },
    {
     "name": "stdout",
     "output_type": "stream",
     "text": [
      "b-value: 1.08\n",
      "95% conf int: [0.94, 1.24]\n"
     ]
    }
   ],
   "source": [
    "# Compute b-value and confidence interval\n",
    "mt = 3\n",
    "b, conf_int = b_value(mags, mt, perc=[2.5, 97.5], n_reps=10000)\n",
    "\n",
    "m_theor = np.random.exponential(b/np.log(10), size=100000) + mt\n",
    "\n",
    "_ = plt.plot(ecdf(m_theor))\n",
    "\n",
    "x1,y1 = ecdf(mags[mags >= mt])\n",
    "_ = plt.plot(x1,y1, marker='.', linestyle='none')\n",
    "\n",
    "_ = plt.xlabel('magnitude')\n",
    "_ = plt.ylabel('ECDF')\n",
    "_ = plt.xlim(2.8, 6.2)\n",
    "_ = plt.ylim(0,1)\n",
    "plt.show()\n",
    "\n",
    "print(\"\"\"b-value: {0:.2f}\n",
    "95% conf int: [{1:.2f}, {2:.2f}]\"\"\".format(b, *conf_int))"
   ]
  },
  {
   "cell_type": "markdown",
   "metadata": {},
   "source": [
    "Parkfield seems to follow the Gutenberg-Richter law very well. The b-value of about 1 is typical for regions along fault zones."
   ]
  },
  {
   "cell_type": "markdown",
   "metadata": {},
   "source": [
    "### Timing of Earthquakes"
   ]
  },
  {
   "cell_type": "markdown",
   "metadata": {},
   "source": [
    "Two models of earthquakes: \n",
    "\n",
    "**Exponential** : Earthquakes happen like a poissons process. It means when the next earthquake will happen has no relation with when the last earthquake had happened.\n",
    "\n",
    "**Gaussian** : The earthquakes have well defined period."
   ]
  },
  {
   "cell_type": "code",
   "execution_count": 11,
   "metadata": {},
   "outputs": [
    {
     "data": {
      "text/plain": [
       "array([  0.,  14.,  89.,   8., 205.,   6.,   7.,  13.,  95.,   0.,  22.,\n",
       "         0.,   0.,   0.,   0.,   0.,   0.,   0.,   0.,   0.,   0.,   2.,\n",
       "         0.,   6.,   0.,  24.,  63.,   0.])"
      ]
     },
     "execution_count": 11,
     "metadata": {},
     "output_type": "execute_result"
    }
   ],
   "source": [
    "data_eq['year'] = pd.DatetimeIndex(data_eq['time']).year\n",
    "data_eq['month'] = pd.DatetimeIndex(data_eq['time']).month\n",
    " \n",
    "mags4yr = data_eq['year'][mags>4]\n",
    "mags4mn = data_eq['month'][mags>4]\n",
    "gapyr = np.zeros(len(mags4yr))\n",
    "gapmn = np.zeros(len(mags4yr))\n",
    "\n",
    "for i in range(len(mags4yr)-1):\n",
    "    gapyr[i] = mags4yr.iloc[i+1] - mags4yr.iloc[i]\n",
    "    gapmn[i] = mags4mn.iloc[i+1] - mags4mn.iloc[i]\n",
    "\n",
    "timegap = []\n",
    "timegap = gapyr*12 + gapmn\n",
    "timegap"
   ]
  },
  {
   "cell_type": "markdown",
   "metadata": {},
   "source": [
    "We have taken only one earthquake from one month to filter out the after shocks."
   ]
  },
  {
   "cell_type": "code",
   "execution_count": 12,
   "metadata": {},
   "outputs": [
    {
     "data": {
      "text/plain": [
       "array([ 14.,  89.,   8., 205.,   6.,   7.,  13.,  95.,  22.,   2.,   6.,\n",
       "        24.,  63.])"
      ]
     },
     "execution_count": 12,
     "metadata": {},
     "output_type": "execute_result"
    }
   ],
   "source": [
    "time_gap = timegap[timegap>0]\n",
    "time_gap"
   ]
  },
  {
   "cell_type": "code",
   "execution_count": 13,
   "metadata": {},
   "outputs": [
    {
     "data": {
      "image/png": "[encoded data removed]",
      "text/plain": [
       "<Figure size 432x288 with 1 Axes>"
      ]
     },
     "metadata": {},
     "output_type": "display_data"
    }
   ],
   "source": [
    "mean_time_gap = np.mean(time_gap)\n",
    "\n",
    "std_time_gap = np.std(time_gap)\n",
    "\n",
    "time_gap_exp = np.random.exponential(mean_time_gap, size=10000)\n",
    "\n",
    "time_gap_norm = np.random.normal(mean_time_gap, std_time_gap, size=10000)\n",
    "\n",
    "xexp,yexp = ecdf(time_gap_exp)\n",
    "xnorm, ynorm = ecdf(time_gap_norm)\n",
    "\n",
    "# Plot theoretical CDFs\n",
    "_ = plt.plot(xexp,yexp,marker='.',linestyle='none')\n",
    "_ = plt.plot(xnorm, ynorm,marker='.',linestyle='none')\n",
    "\n",
    "# Plot Parkfield ECDF\n",
    "x2,y2 = ecdf(time_gap)\n",
    "_ = plt.plot(x2,y2,marker='.',linestyle='none')\n",
    "\n",
    "_ = plt.legend(('Exp.', 'Norm.'), loc='upper left')\n",
    "\n",
    "_ = plt.xlabel('time gap (years)')\n",
    "_ = plt.ylabel('ECDF')\n",
    "_ = plt.xlim(-10, 50)\n",
    "plt.show()"
   ]
  },
  {
   "cell_type": "markdown",
   "metadata": {},
   "source": [
    "We took very small magnitude earthquakes, that too with very few data points which might be the reason for this fit."
   ]
  },
  {
   "cell_type": "code",
   "execution_count": 31,
   "metadata": {},
   "outputs": [
    {
     "data": {
      "image/png": "[encoded data removed]",
      "text/plain": [
       "<Figure size 432x288 with 1 Axes>"
      ]
     },
     "metadata": {},
     "output_type": "display_data"
    }
   ],
   "source": [
    "time_gap1 = [24.06570842, 20.07665982, 21.01848049, 12.24640657, 32.05475702,38.2532512 ]\n",
    "# This is the array we get after manual removal of aftershocks\n",
    "# This might have a better fit\n",
    "\n",
    "# Compute the mean time gap: mean_time_gap\n",
    "mean_time_gap1 = np.mean(time_gap1)\n",
    "\n",
    "# Standard deviation of the time gap: std_time_gap\n",
    "std_time_gap1 = np.std(time_gap1)\n",
    "\n",
    "# Generate theoretical Exponential distribution of timings: time_gap_exp\n",
    "time_gap_exp = np.random.exponential(mean_time_gap1, size=10000)\n",
    "\n",
    "# Generate theoretical Normal distribution of timings: time_gap_norm\n",
    "time_gap_norm = np.random.normal(mean_time_gap1, std_time_gap1, size=10000)\n",
    "\n",
    "xexp,yexp = ecdf(time_gap_exp)\n",
    "xnorm, ynorm = ecdf(time_gap_norm)\n",
    "\n",
    "# Plot theoretical CDFs\n",
    "_ = plt.plot(xexp,yexp,marker='.',linestyle='none')\n",
    "_ = plt.plot(xnorm, ynorm,marker='.',linestyle='none')\n",
    "\n",
    "# Plot Parkfield ECDF\n",
    "x2,y2 = ecdf(time_gap1)\n",
    "_ = plt.plot(x2,y2,marker='.',linestyle='none')\n",
    "\n",
    "_ = plt.legend(('Exp.', 'Norm.'), loc='upper left')\n",
    "\n",
    "_ = plt.xlabel('time gap (years)')\n",
    "_ = plt.ylabel('ECDF')\n",
    "_ = plt.xlim(-10, 50)\n",
    "plt.show()"
   ]
  },
  {
   "cell_type": "markdown",
   "metadata": {},
   "source": [
    "Now it looks like normal ecdf curve gives a better fit"
   ]
  },
  {
   "cell_type": "markdown",
   "metadata": {},
   "source": [
    "**When will the next big Parkfield earthquake happen?**\n",
    "The last big earthquake in the Parkfield region was on the evening of September 27, 2004 local time.The task is to get an estimate as to when the next Parkfield quake will be, assuming the Exponential model and also the Gaussian model. In both cases, the best estimate is given by the mean time gap, 24.62 years, meaning that the next earthquake would be in 2029. Compute 95% confidence intervals on when the next earthquake will be assuming an Exponential distribution parametrized by mean_time_gap you computed. and the same assuming a Normal distribution parametrized by mean_time_gap and std_time_gap."
   ]
  },
  {
   "cell_type": "code",
   "execution_count": 32,
   "metadata": {},
   "outputs": [
    {
     "name": "stdout",
     "output_type": "stream",
     "text": [
      "Exponential: [2019.44711836 2035.84279232 2108.34383418]\n",
      "     Normal: [2019.76449154 2030.49977059 2046.47954982]\n"
     ]
    }
   ],
   "source": [
    "last_quake = 2004.74\n",
    "today = 2018.81\n",
    "\n",
    "# Draw samples from the Exponential distribution: exp_samples\n",
    "exp_samples = np.random.exponential(mean_time_gap1, size=100000)\n",
    "\n",
    "# Draw samples from the Normal distribution: norm_samples\n",
    "norm_samples = np.random.normal(mean_time_gap1, std_time_gap1, size=100000)\n",
    "\n",
    "# No earthquake as of today, so only keep samples that are long enough\n",
    "exp_samples = exp_samples[exp_samples > today - last_quake]\n",
    "norm_samples = norm_samples[norm_samples > today - last_quake]\n",
    "\n",
    "conf_int_exp = np.percentile(exp_samples, [2.5, 50, 97.5]) + last_quake\n",
    "conf_int_norm = np.percentile(norm_samples, [2.5, 50, 97.5]) + last_quake\n",
    "\n",
    "print('Exponential:', conf_int_exp)\n",
    "print('     Normal:', conf_int_norm)\n"
   ]
  },
  {
   "cell_type": "markdown",
   "metadata": {},
   "source": [
    "According to the gaussian model the next parkfield EQ will occur in 2030."
   ]
  },
  {
   "cell_type": "markdown",
   "metadata": {},
   "source": [
    "This doesn't tell us anything about the applicability of the model. So lets check if the date of the last eq which came in 2004, which with our predicted EQ."
   ]
  },
  {
   "cell_type": "code",
   "execution_count": 33,
   "metadata": {},
   "outputs": [
    {
     "data": {
      "text/html": [
       "<div>\n",
       "<style scoped>\n",
       "    .dataframe tbody tr th:only-of-type {\n",
       "        vertical-align: middle;\n",
       "    }\n",
       "\n",
       "    .dataframe tbody tr th {\n",
       "        vertical-align: top;\n",
       "    }\n",
       "\n",
       "    .dataframe thead th {\n",
       "        text-align: right;\n",
       "    }\n",
       "</style>\n",
       "<table border=\"1\" class=\"dataframe\">\n",
       "  <thead>\n",
       "    <tr style=\"text-align: right;\">\n",
       "      <th></th>\n",
       "      <th>time</th>\n",
       "      <th>latitude</th>\n",
       "      <th>longitude</th>\n",
       "      <th>depth</th>\n",
       "      <th>mag</th>\n",
       "      <th>magType</th>\n",
       "      <th>nst</th>\n",
       "      <th>gap</th>\n",
       "      <th>dmin</th>\n",
       "      <th>rms</th>\n",
       "      <th>...</th>\n",
       "      <th>magNst</th>\n",
       "      <th>status</th>\n",
       "      <th>locationSource</th>\n",
       "      <th>magSource</th>\n",
       "      <th>loc_name</th>\n",
       "      <th>loc_admin1</th>\n",
       "      <th>loc_admin2</th>\n",
       "      <th>loc_cc</th>\n",
       "      <th>year</th>\n",
       "      <th>month</th>\n",
       "    </tr>\n",
       "  </thead>\n",
       "  <tbody>\n",
       "    <tr>\n",
       "      <th>5</th>\n",
       "      <td>1966-06-28 04:26:16.260</td>\n",
       "      <td>35.790500</td>\n",
       "      <td>-120.294000</td>\n",
       "      <td>6.000</td>\n",
       "      <td>5.47</td>\n",
       "      <td>ml</td>\n",
       "      <td>15.0</td>\n",
       "      <td>247.0</td>\n",
       "      <td>1.18300</td>\n",
       "      <td>0.48</td>\n",
       "      <td>...</td>\n",
       "      <td>8.0</td>\n",
       "      <td>reviewed</td>\n",
       "      <td>ci</td>\n",
       "      <td>ci</td>\n",
       "      <td>Shandon</td>\n",
       "      <td>California</td>\n",
       "      <td>San Luis Obispo County</td>\n",
       "      <td>US</td>\n",
       "      <td>1966</td>\n",
       "      <td>6</td>\n",
       "    </tr>\n",
       "    <tr>\n",
       "      <th>3153</th>\n",
       "      <td>2004-09-28 17:15:24.250</td>\n",
       "      <td>35.818167</td>\n",
       "      <td>-120.366000</td>\n",
       "      <td>8.136</td>\n",
       "      <td>5.97</td>\n",
       "      <td>mw</td>\n",
       "      <td>61.0</td>\n",
       "      <td>26.0</td>\n",
       "      <td>0.01622</td>\n",
       "      <td>0.04</td>\n",
       "      <td>...</td>\n",
       "      <td>4.0</td>\n",
       "      <td>reviewed</td>\n",
       "      <td>nc</td>\n",
       "      <td>nc</td>\n",
       "      <td>Shandon</td>\n",
       "      <td>California</td>\n",
       "      <td>San Luis Obispo County</td>\n",
       "      <td>US</td>\n",
       "      <td>2004</td>\n",
       "      <td>9</td>\n",
       "    </tr>\n",
       "    <tr>\n",
       "      <th>3810</th>\n",
       "      <td>2004-09-29 17:10:04.960</td>\n",
       "      <td>35.885502</td>\n",
       "      <td>-120.505837</td>\n",
       "      <td>-0.457</td>\n",
       "      <td>5.04</td>\n",
       "      <td>mw</td>\n",
       "      <td>158.0</td>\n",
       "      <td>161.0</td>\n",
       "      <td>NaN</td>\n",
       "      <td>0.25</td>\n",
       "      <td>...</td>\n",
       "      <td>6.0</td>\n",
       "      <td>reviewed</td>\n",
       "      <td>ci</td>\n",
       "      <td>ci</td>\n",
       "      <td>San Miguel</td>\n",
       "      <td>California</td>\n",
       "      <td>San Luis Obispo County</td>\n",
       "      <td>US</td>\n",
       "      <td>2004</td>\n",
       "      <td>9</td>\n",
       "    </tr>\n",
       "  </tbody>\n",
       "</table>\n",
       "<p>3 rows × 28 columns</p>\n",
       "</div>"
      ],
      "text/plain": [
       "                         time   latitude   longitude  depth   mag magType  \\\n",
       "5     1966-06-28 04:26:16.260  35.790500 -120.294000  6.000  5.47      ml   \n",
       "3153  2004-09-28 17:15:24.250  35.818167 -120.366000  8.136  5.97      mw   \n",
       "3810  2004-09-29 17:10:04.960  35.885502 -120.505837 -0.457  5.04      mw   \n",
       "\n",
       "        nst    gap     dmin   rms  ...  magNst    status locationSource  \\\n",
       "5      15.0  247.0  1.18300  0.48  ...     8.0  reviewed             ci   \n",
       "3153   61.0   26.0  0.01622  0.04  ...     4.0  reviewed             nc   \n",
       "3810  158.0  161.0      NaN  0.25  ...     6.0  reviewed             ci   \n",
       "\n",
       "     magSource    loc_name  loc_admin1              loc_admin2  loc_cc  year  \\\n",
       "5           ci     Shandon  California  San Luis Obispo County      US  1966   \n",
       "3153        nc     Shandon  California  San Luis Obispo County      US  2004   \n",
       "3810        ci  San Miguel  California  San Luis Obispo County      US  2004   \n",
       "\n",
       "     month  \n",
       "5        6  \n",
       "3153     9  \n",
       "3810     9  \n",
       "\n",
       "[3 rows x 28 columns]"
      ]
     },
     "execution_count": 33,
     "metadata": {},
     "output_type": "execute_result"
    }
   ],
   "source": [
    "data_eq[mags>5]"
   ]
  },
  {
   "cell_type": "markdown",
   "metadata": {},
   "source": [
    "#### Putting the last earthquake as 1966, and the current date as 2003."
   ]
  },
  {
   "cell_type": "code",
   "execution_count": 34,
   "metadata": {},
   "outputs": [
    {
     "name": "stdout",
     "output_type": "stream",
     "text": [
      "Exponential: [2004.40556253 2020.76274581 2095.12355248]\n",
      "     Normal: [2003.91613547 2006.62307593 2015.94536482]\n"
     ]
    }
   ],
   "source": [
    "last_quake = 1966.54\n",
    "today = 2003.81\n",
    "\n",
    "# Draw samples from the Exponential distribution: exp_samples\n",
    "exp_samples = np.random.exponential(mean_time_gap1, size=100000)\n",
    "\n",
    "# Draw samples from the Normal distribution: norm_samples\n",
    "norm_samples = np.random.normal(mean_time_gap1, std_time_gap1, size=100000)\n",
    "\n",
    "# No earthquake as of today, so only keep samples that are long enough\n",
    "exp_samples = exp_samples[exp_samples > today - last_quake]\n",
    "norm_samples = norm_samples[norm_samples > today - last_quake]\n",
    "\n",
    "conf_int_exp = np.percentile(exp_samples, [2.5, 50, 97.5]) + last_quake\n",
    "conf_int_norm = np.percentile(norm_samples, [2.5, 50, 97.5]) + last_quake\n",
    "\n",
    "print('Exponential:', conf_int_exp)\n",
    "print('     Normal:', conf_int_norm)\n"
   ]
  },
  {
   "cell_type": "markdown",
   "metadata": {},
   "source": [
    "**In the normal distribution the earthquake is suppose to happen in 2006, and the actual earthquake did happen in 2004, so the normal distribution did predict the earthquake. The actual date lies in the 95% interval of the predicted date.**"
   ]
  },
  {
   "cell_type": "markdown",
   "metadata": {},
   "source": [
    "Also notice the size of intervals we get in normal and exponential distributions. The size of the interval in case of exponential distribution is very large."
   ]
  },
  {
   "cell_type": "markdown",
   "metadata": {},
   "source": [
    "------------------------------------------------------------"
   ]
  },
  {
   "cell_type": "markdown",
   "metadata": {},
   "source": [
    "### The Kolmogorov-Smirnov test"
   ]
  },
  {
   "cell_type": "markdown",
   "metadata": {},
   "source": [
    "The ECDF is formally defined as ECDF(x) = (number of samples ≤ x) / (total number of samples). "
   ]
  },
  {
   "cell_type": "code",
   "execution_count": 35,
   "metadata": {},
   "outputs": [],
   "source": [
    "def ecdf_formal(x, data):\n",
    "    return np.searchsorted(np.sort(data), x, side='right') / len(data)\n",
    "\n",
    "\n",
    "# def ecdf_formal(x, data):\n",
    "#     output = np.empty(len(x))\n",
    "\n",
    "#     data = np.sort(data)\n",
    "\n",
    "#     for i, x_val in x:\n",
    "#         j = 0\n",
    "#         while j < len(data) and x_val >= data[j]:\n",
    "#             j += 1\n",
    "\n",
    "#         output[i] = j\n",
    "\n",
    "#     return output / len(data)"
   ]
  },
  {
   "cell_type": "code",
   "execution_count": 36,
   "metadata": {},
   "outputs": [],
   "source": [
    "def ks_stat(data1, data2):\n",
    "    # Compute ECDF from data: x, y\n",
    "    x, y = ecdf(data1)\n",
    "    \n",
    "    # Compute corresponding values of the target CDF\n",
    "    cdf = ecdf_formal(x, data2)\n",
    "\n",
    "    # Compute distances between concave corners and CDF\n",
    "    D_top = y - cdf\n",
    "\n",
    "    # Compute distance between convex corners and CDF\n",
    "    D_bottom = cdf - y + 1/len(data1)\n",
    "\n",
    "    return np.max((D_top, D_bottom))"
   ]
  },
  {
   "cell_type": "code",
   "execution_count": 37,
   "metadata": {},
   "outputs": [],
   "source": [
    "def draw_ks_reps(n, f, args=(), size=10000, n_reps=10000):\n",
    "    # Generate samples from target distribution\n",
    "    x_f = f(*args, size=size)\n",
    "    \n",
    "    reps = np.empty(n_reps)\n",
    "    \n",
    "    # Draw replicates\n",
    "    for i in range(n_reps):\n",
    "        # Draw samples for comparison\n",
    "        x_samp = f(*args, size=n)\n",
    "        \n",
    "        # Compute K-S statistic\n",
    "        reps[i] = ks_stat(x_samp, x_f)\n",
    "\n",
    "    return reps"
   ]
  },
  {
   "cell_type": "code",
   "execution_count": 38,
   "metadata": {},
   "outputs": [
    {
     "name": "stdout",
     "output_type": "stream",
     "text": [
      "p = 0.2384\n"
     ]
    }
   ],
   "source": [
    "# Draw target distribution\n",
    "x_f = np.random.exponential(mean_time_gap, size=10000)\n",
    "\n",
    "# Compute K-S stat: d\n",
    "d = ks_stat(time_gap1, x_f)\n",
    "\n",
    "# Draw K-S replicates: reps\n",
    "reps = draw_ks_reps(len(time_gap1), np.random.exponential, \n",
    "                         args=(mean_time_gap,), size=10000, n_reps=10000)\n",
    "\n",
    "p_val = np.sum(reps >= d) / 10000\n",
    "print('p =', p_val)"
   ]
  },
  {
   "cell_type": "markdown",
   "metadata": {},
   "source": [
    "That's a p-value above 0.44 for the time gap we calculated by considering one EQ in month to filter out the After-shocks, but when we use the time gap array in which the after-shocks were manually removed we get a p-value of 0.22. This means that the Parkfield sequence is not outside the realm of possibility if earthquakes there are a Poisson process. This does not mean that they are generated by a Poisson process, but that the observed sequence is not incongruous with that model. The upshot is that it is really hard to say when the next Parkfield quake will be."
   ]
  },
  {
   "cell_type": "code",
   "execution_count": null,
   "metadata": {},
   "outputs": [],
   "source": []
  }
 ],
 "metadata": {
  "kernelspec": {
   "display_name": "Python 3",
   "language": "python",
   "name": "python3"
  },
  "language_info": {
   "codemirror_mode": {
    "name": "ipython",
    "version": 3
   },
   "file_extension": ".py",
   "mimetype": "text/x-python",
   "name": "python",
   "nbconvert_exporter": "python",
   "pygments_lexer": "ipython3",
   "version": "3.7.0"
  }
 },
 "nbformat": 4,
 "nbformat_minor": 2
}
